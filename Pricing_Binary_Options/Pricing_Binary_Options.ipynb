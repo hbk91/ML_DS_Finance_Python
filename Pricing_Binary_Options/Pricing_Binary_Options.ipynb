{
 "cells": [
  {
   "source": [
    "<h2><p align=center> Pricing Binary Options </p></h2>\n",
    "<h3><p align=center> By Aman Jindal, CFA, FRM, CQF </p></h3>"
   ],
   "cell_type": "markdown",
   "metadata": {}
  },
  {
   "cell_type": "markdown",
   "metadata": {},
   "source": [
    "The following code uses Monte Carlo Simulations to price Binary Options.\n",
    "\n",
    "**Option Valuation Formula**:\n",
    "\n",
    "The fair value of an option is the present value of the expected payoff at expiry under a risk-neutral random walk for the underlying.The risk-neutral random walk for the underlying S is: \n",
    "$$ ds = rS dt + \\sigma SdX $$\n",
    "\n",
    "This is simply our usual lognormal random walk but with the risk-free rate instead of the real growth rate.Thus,\n",
    "\n",
    "$$ optionValue = e^{-r(T-t)}E^Q[Payoff(S_T)] $$\n",
    "\n",
    "For Binary Call Option: Payoff = 1 if $S_T>K$ ; 0 otherwise\n",
    "\n",
    "For Binary Put Option: Payoff = 1 if $S_T<K$ ; 0 otherwise\n",
    "\n",
    "**Algorithm Used**:\n",
    "\n",
    "* Simulate the risk-neutral random walk starting at today’s value of the asset $S_0$ over the required time horizon. This gives one realization of the underlying price path.\n",
    "* For this realization calculate the option payoff.\n",
    "* Perform many more such realizations over the time horizon.\n",
    "* Calculate the average payoff over all realizations.\n",
    "* Take the present value of this average, this is the option value.\n",
    "\n",
    "**Euler-Maruyama Method of simulating the stock Price**:\n",
    "\n",
    "To apply Euler-Maruyama method, we first divide the interval T into M intervals such that $ \\delta t = \\frac {T}{M}$\n",
    "\n",
    "Then, stock price (S) is simulated as\n",
    "\n",
    "$$ \\delta S = rS\\delta t + \\sigma S \\sqrt {\\delta t} \\phi$$\n",
    "\n",
    "where $\\phi$ is from a standard Normal distribution\n",
    "\n",
    "**Errors**:\n",
    "\n",
    "Let $\\epsilon$ be the desired accuracy in our Monte Carlo Simulation(MCS).\n",
    "Errors in MCS will arise due to:\n",
    "* $O(\\delta t)$ due to Size of the time step $\\delta t$\n",
    "* $O(N^{-0.5})$ due to N finite number of simulations\n",
    "\n",
    "Thus, for chosen levels of $\\epsilon$ we can choose:\n",
    "* $O(\\delta t) = O(\\epsilon)$ and thus, number of time steps, $M = \\frac{1}{\\delta t}$\n",
    "* Number of simulations, $N=O(\\epsilon ^{-2})$\n",
    "\n",
    "**Inputs chosen for the Analysis**:\n",
    "\n",
    "* The error levels chosen are [0.2,0.1,0.05,0.02,0.01]\n",
    "* Thus, number of time steps(M) are [5,10,20,50,100]\n",
    "* Thus, number of simulations(N) are [25,100,400,2500,10000]\n",
    "\n",
    "**Plotting Option Prices against Stock Prices**:\n",
    "\n",
    "* Stock Prices have been varied from 1 to 200 in a step of 1\n",
    "* Four different Time to Expiry have been chosen [0.25,0.5,1.5,2]\n",
    "* Four different Volatility have been chosen [0.1,0.15,0.25,0.3]\n",
    "* Four different Risk-Free rate have been chosen [0.03,0.04,0.06,0.07]\n",
    "* The default values are S = 100, K = 100, T = 1,r = 0.05, $\\sigma = 0.2$, M = 50, N = 2500\n",
    "\n",
    "**Plotting Option Prices against Volatility, Risk-Free Rate and Time to Maturity**:\n",
    "\n",
    "* Three StockPrice = [90,100,110] for simulating OTM,ATM,ITM options have been taken\n",
    "* Volatility has been varied in the interval (0.01,0.6)\n",
    "* Risk-Free Rate has been varied in the interval (0.01,0.2)\n",
    "* Time to Maturity has been varied in the interval (0.1,2)"
   ]
  },
  {
   "cell_type": "code",
   "execution_count": 1,
   "metadata": {},
   "outputs": [],
   "source": [
    "# Importing Libraries\n",
    "\n",
    "import math\n",
    "import numpy as np\n",
    "import numpy.random as npr\n",
    "import pandas as pd\n",
    "import matplotlib.pyplot as plt\n",
    "from scipy.stats import norm\n",
    "plt.style.use('seaborn')"
   ]
  },
  {
   "cell_type": "code",
   "execution_count": 2,
   "metadata": {},
   "outputs": [],
   "source": [
    "# Creating a Folder, if none exists, within cwd to store the Images\n",
    "\n",
    "images_folder = 'Images'   # Folder Name within the cwd where Images will stored  \n",
    "cwd = os.getcwd()\n",
    "images_folder_path = os.path.join(cwd, images_folder)\n",
    "\n",
    "if not os.path.exists(images_folder_path):\n",
    "    os.makedirs(images_folder_path)"
   ]
  },
  {
   "cell_type": "code",
   "execution_count": 3,
   "metadata": {},
   "outputs": [],
   "source": [
    "# Function for Valuation by BSM\n",
    "\n",
    "def BSValue(S,K,T,r,vol,optionType):\n",
    "    d2 = (np.log(S/K) + (r - 0.5*vol**2) * T) / vol / np.sqrt(T)\n",
    "    if optionType == 'Call':\n",
    "        optionPrice = np.exp(-r * T)*norm.cdf(d2)\n",
    "    elif optionType == 'Put':\n",
    "        optionPrice = np.exp(-r * T)*norm.cdf(-d2)\n",
    "    else:\n",
    "        optionPrice = np.nan\n",
    "    return optionPrice    "
   ]
  },
  {
   "cell_type": "code",
   "execution_count": 4,
   "metadata": {},
   "outputs": [],
   "source": [
    "# Function for Valuation by Monte Carlo Simulations\n",
    "\n",
    "def MCValue(S0,K,T,r,vol,optionType,M,N):\n",
    "    S = np.full(N,S0,dtype=np.double)    \n",
    "    dt = T/M\n",
    "    for i in range(M):\n",
    "        S = S*(1 + r*dt + vol*np.sqrt(dt)*npr.randn(N)) # Euler-Maruyama Method\n",
    "    if optionType == 'Call':\n",
    "        optionPrice = np.exp(-r*T)*np.mean(np.where(S>K,1,0))\n",
    "    elif optionType == 'Put':\n",
    "        optionPrice = np.exp(-r*T)*np.mean(np.where(S<K,1,0))\n",
    "    else:\n",
    "        optionPrice = np.nan\n",
    "    return optionPrice"
   ]
  },
  {
   "cell_type": "code",
   "execution_count": 5,
   "metadata": {},
   "outputs": [],
   "source": [
    "# Defining Parameters\n",
    "\n",
    "sDefault = 100\n",
    "kDefault = 100\n",
    "tDefault = 1\n",
    "rDefault = 0.05\n",
    "volDefault = 0.2\n",
    "mDefault = 50     # Number of Time Steps\n",
    "nDefault = 2500   # Number of Simulations\n",
    "\n",
    "S = np.arange(1,201,1,dtype='float')\n",
    "T = [0.25,0.5,1.5,2]\n",
    "r = [0.03,0.04,0.06,0.07]\n",
    "vol = [0.1,0.15,0.25,0.3]\n",
    "error = [0.2,0.1,0.02,0.01]"
   ]
  },
  {
   "cell_type": "code",
   "execution_count": 6,
   "metadata": {},
   "outputs": [
    {
     "output_type": "stream",
     "name": "stdout",
     "text": [
      "M = [5, 10, 50, 100]\nN = [25, 100, 2500, 10000]\n"
     ]
    }
   ],
   "source": [
    "# Calculation Number of Steps and Simulations\n",
    "\n",
    "M = []\n",
    "N = []\n",
    "for i in error:\n",
    "    M.append(int(round(pow(i,-1))))\n",
    "    N.append(int(round(pow(i,-2))))\n",
    "print(\"M = {}\".format(M))\n",
    "print(\"N = {}\".format(N))"
   ]
  },
  {
   "cell_type": "code",
   "execution_count": 7,
   "metadata": {},
   "outputs": [
    {
     "output_type": "stream",
     "name": "stdout",
     "text": [
      "Calculations Done\n"
     ]
    }
   ],
   "source": [
    "# Option Prices for different Stock Prices (S) and number of Simulations (N)\n",
    "\n",
    "stockPrices = S.size\n",
    "simulationCounts = len(N)\n",
    "\n",
    "BSCall = np.zeros((stockPrices,1))\n",
    "BSPut = np.zeros((stockPrices,1))\n",
    "MCCall = np.zeros((stockPrices,simulationCounts))\n",
    "MCPut = np.zeros((stockPrices,simulationCounts))\n",
    "\n",
    "for i,s in np.ndenumerate(S):\n",
    "    \n",
    "    BSCall[i,0] = BSValue(s,kDefault,tDefault,rDefault,volDefault,'Call')\n",
    "    BSPut[i,0] = BSValue(s,kDefault,tDefault,rDefault,volDefault,'Put')\n",
    "    \n",
    "    for j,(m,n) in enumerate(zip(M,N)):\n",
    "        \n",
    "        MCCall[i,j] = MCValue(s,kDefault,tDefault,rDefault,volDefault,'Call',m,n)\n",
    "        MCPut[i,j] = MCValue(s,kDefault,tDefault,rDefault,volDefault,'Put',m,n)\n",
    "print('Calculations Done')"
   ]
  },
  {
   "cell_type": "code",
   "execution_count": 8,
   "metadata": {},
   "outputs": [],
   "source": [
    "# Plotting Results of MCS for Binary Call for different S and N\n",
    "\n",
    "image_name = 'image1.png'       # Name of the Image File\n",
    "image_path = os.path.join(images_folder_path, image_name)\n",
    "\n",
    "fig, ((ax1,ax2),(ax3,ax4)) = plt.subplots(2,2,sharex = True, sharey = True)\n",
    "axs = [ax1,ax2,ax3,ax4] \n",
    "for i,ax in enumerate(axs): \n",
    "       \n",
    "    ax.plot(S,BSCall[:,0], label='BSM')\n",
    "    ax.plot(S,MCCall[:,i], label='MCS: N = {}'.format(N[i]))\n",
    "    ax.set_ylim(-0.05,1.05)\n",
    "    ax.tick_params(labelsize=9)\n",
    "    ax.legend(fontsize=8,frameon=True)\n",
    "\n",
    "fig.text(0.5, 0.04, 'Stock Price', ha='center')\n",
    "fig.text(0.04, 0.5, 'Binary Call Price', va='center', rotation='vertical')\n",
    "fig.suptitle(\"Binary Call Price with varying number of simulations\",ha='center')\n",
    "fig.tight_layout()\n",
    "fig.subplots_adjust(left = 0.14,top=0.92, bottom = 0.14);\n",
    "\n",
    "plt.savefig(image_path, dpi=300)\n",
    "plt.close();"
   ]
  },
  {
   "source": [
    "<img src='.//Images/image1.png'/>"
   ],
   "cell_type": "markdown",
   "metadata": {}
  },
  {
   "cell_type": "markdown",
   "metadata": {},
   "source": [
    "**Observations**:\n",
    "\n",
    "* We can infer from the above graphs that as the number of simulations increase, the results of Monte Carlo Simulations get closer to the theoretical value obtained from the Black Scholes Merton Model.\n",
    "* The slope of the graph is highest for ATM (At the Money) Option.\n",
    "\n",
    "The following table provides a snapshot of the Binary Call Prices for S in the interval [95,105]"
   ]
  },
  {
   "cell_type": "code",
   "execution_count": 9,
   "metadata": {},
   "outputs": [
    {
     "output_type": "stream",
     "name": "stdout",
     "text": [
      "\u001b[1m\t\t\u001b[4mBinary Call Option Valuation\u001b[0m\u001b[0m\n"
     ]
    },
    {
     "output_type": "execute_result",
     "data": {
      "text/plain": [
       "                  BSM  MCS: N=25  MCS: N=100  MCS: N=2500  MCS: N=10000\n",
       "Stock Price                                                            \n",
       "95.0         0.435288   0.380492    0.390004     0.436424      0.432905\n",
       "96.0         0.455091   0.380492    0.456590     0.466483      0.459539\n",
       "97.0         0.474743   0.456590    0.437566     0.482464      0.481703\n",
       "98.0         0.494197   0.532688    0.456590     0.487029      0.493783\n",
       "99.0         0.513405   0.608787    0.504152     0.504152      0.517659\n",
       "100.0        0.532325   0.608787    0.551713     0.534591      0.536779\n",
       "101.0        0.550917   0.532688    0.523176     0.552094      0.542581\n",
       "102.0        0.569144   0.456590    0.504152     0.589382      0.567218\n",
       "103.0        0.586975   0.570738    0.637324     0.579869      0.579204\n",
       "104.0        0.604380   0.646836    0.627811     0.595470      0.604887\n",
       "105.0        0.621335   0.760984    0.551713     0.620202      0.617919"
      ],
      "text/html": "<div>\n<style scoped>\n    .dataframe tbody tr th:only-of-type {\n        vertical-align: middle;\n    }\n\n    .dataframe tbody tr th {\n        vertical-align: top;\n    }\n\n    .dataframe thead th {\n        text-align: right;\n    }\n</style>\n<table border=\"1\" class=\"dataframe\">\n  <thead>\n    <tr style=\"text-align: right;\">\n      <th></th>\n      <th>BSM</th>\n      <th>MCS: N=25</th>\n      <th>MCS: N=100</th>\n      <th>MCS: N=2500</th>\n      <th>MCS: N=10000</th>\n    </tr>\n    <tr>\n      <th>Stock Price</th>\n      <th></th>\n      <th></th>\n      <th></th>\n      <th></th>\n      <th></th>\n    </tr>\n  </thead>\n  <tbody>\n    <tr>\n      <th>95.0</th>\n      <td>0.435288</td>\n      <td>0.380492</td>\n      <td>0.390004</td>\n      <td>0.436424</td>\n      <td>0.432905</td>\n    </tr>\n    <tr>\n      <th>96.0</th>\n      <td>0.455091</td>\n      <td>0.380492</td>\n      <td>0.456590</td>\n      <td>0.466483</td>\n      <td>0.459539</td>\n    </tr>\n    <tr>\n      <th>97.0</th>\n      <td>0.474743</td>\n      <td>0.456590</td>\n      <td>0.437566</td>\n      <td>0.482464</td>\n      <td>0.481703</td>\n    </tr>\n    <tr>\n      <th>98.0</th>\n      <td>0.494197</td>\n      <td>0.532688</td>\n      <td>0.456590</td>\n      <td>0.487029</td>\n      <td>0.493783</td>\n    </tr>\n    <tr>\n      <th>99.0</th>\n      <td>0.513405</td>\n      <td>0.608787</td>\n      <td>0.504152</td>\n      <td>0.504152</td>\n      <td>0.517659</td>\n    </tr>\n    <tr>\n      <th>100.0</th>\n      <td>0.532325</td>\n      <td>0.608787</td>\n      <td>0.551713</td>\n      <td>0.534591</td>\n      <td>0.536779</td>\n    </tr>\n    <tr>\n      <th>101.0</th>\n      <td>0.550917</td>\n      <td>0.532688</td>\n      <td>0.523176</td>\n      <td>0.552094</td>\n      <td>0.542581</td>\n    </tr>\n    <tr>\n      <th>102.0</th>\n      <td>0.569144</td>\n      <td>0.456590</td>\n      <td>0.504152</td>\n      <td>0.589382</td>\n      <td>0.567218</td>\n    </tr>\n    <tr>\n      <th>103.0</th>\n      <td>0.586975</td>\n      <td>0.570738</td>\n      <td>0.637324</td>\n      <td>0.579869</td>\n      <td>0.579204</td>\n    </tr>\n    <tr>\n      <th>104.0</th>\n      <td>0.604380</td>\n      <td>0.646836</td>\n      <td>0.627811</td>\n      <td>0.595470</td>\n      <td>0.604887</td>\n    </tr>\n    <tr>\n      <th>105.0</th>\n      <td>0.621335</td>\n      <td>0.760984</td>\n      <td>0.551713</td>\n      <td>0.620202</td>\n      <td>0.617919</td>\n    </tr>\n  </tbody>\n</table>\n</div>"
     },
     "metadata": {},
     "execution_count": 9
    }
   ],
   "source": [
    "df = pd.DataFrame(data=BSCall,index=S,columns=['BSM'])\n",
    "df1 = pd.DataFrame(data=MCCall,index=S,columns=['MCS: N=25','MCS: N=100','MCS: N=2500','MCS: N=10000'])\n",
    "df = df.join(df1)\n",
    "df.index.rename('Stock Price',inplace=True)\n",
    "print (\"\\033[1m\\t\\t\\033[4mBinary Call Option Valuation\\033[0m\\033[0m\")\n",
    "df.loc[95:105]"
   ]
  },
  {
   "cell_type": "code",
   "execution_count": 10,
   "metadata": {},
   "outputs": [],
   "source": [
    "# Plotting Results of MCS for Binary Put for different S and N\n",
    "\n",
    "image_name = 'image2.png'       # Name of the Image File\n",
    "image_path = os.path.join(images_folder_path, image_name)\n",
    "\n",
    "fig, ((ax1,ax2),(ax3,ax4)) = plt.subplots(2,2,sharex = True, sharey = True)\n",
    "axs = [ax1,ax2,ax3,ax4] \n",
    "for i,ax in enumerate(axs): \n",
    "       \n",
    "    ax.plot(S,BSPut[:,0], label='BSM')\n",
    "    ax.plot(S,MCPut[:,i], label='MCS: N = {}'.format(N[i]))\n",
    "    ax.set_ylim(-0.05,1.05)\n",
    "    ax.tick_params(labelsize=9)\n",
    "    ax.legend(fontsize=8,frameon=True)\n",
    "\n",
    "fig.text(0.5, 0.04, 'Stock Price', ha='center')\n",
    "fig.text(0.04, 0.5, 'Binary Put Price', va='center', rotation='vertical')\n",
    "fig.suptitle(\"Binary Put Price with varying number of simulations\",ha='center')\n",
    "fig.subplots_adjust(left = 0.14,top=0.92, bottom = 0.14);\n",
    "\n",
    "plt.savefig(image_path, dpi=300)\n",
    "plt.close();"
   ]
  },
  {
   "source": [
    "<img src='.//Images/image2.png'/>"
   ],
   "cell_type": "markdown",
   "metadata": {}
  },
  {
   "cell_type": "markdown",
   "metadata": {},
   "source": [
    "**Observations**:\n",
    "\n",
    "* We can infer from the above graphs that as the number of simulations increase, the results of Monte Carlo Simulations get closer to the theoretical value obtained from the Black Scholes Merton Model.\n",
    "* The magnitude of slope (Delta) of the graph is highest for ATM (At the Money) Option.\n",
    "\n",
    "The following table provides a snapshot of the Binary Put Prices for S in the interval [95,105]"
   ]
  },
  {
   "cell_type": "code",
   "execution_count": 11,
   "metadata": {},
   "outputs": [
    {
     "output_type": "stream",
     "name": "stdout",
     "text": [
      "\u001b[1m\t\t\u001b[4mBinary Put Option Valuation\u001b[0m\u001b[0m\n"
     ]
    },
    {
     "output_type": "execute_result",
     "data": {
      "text/plain": [
       "                  BSM  MCS: N=25  MCS: N=100  MCS: N=2500  MCS: N=10000\n",
       "Stock Price                                                            \n",
       "95.0         0.515941   0.570738    0.475615     0.515947      0.511191\n",
       "96.0         0.496139   0.380492    0.523176     0.476376      0.495210\n",
       "97.0         0.476486   0.608787    0.447078     0.473332      0.475615\n",
       "98.0         0.457032   0.456590    0.437566     0.464961      0.455829\n",
       "99.0         0.437824   0.494639    0.456590     0.431858      0.443463\n",
       "100.0        0.418905   0.380492    0.523176     0.418541      0.418160\n",
       "101.0        0.400313   0.304393    0.399516     0.398375      0.403321\n",
       "102.0        0.382085   0.228295    0.361467     0.379731      0.393999\n",
       "103.0        0.364254   0.380492    0.332930     0.364131      0.357662\n",
       "104.0        0.346849   0.304393    0.342443     0.334833      0.338162\n",
       "105.0        0.329895   0.266344    0.332930     0.328745      0.329411"
      ],
      "text/html": "<div>\n<style scoped>\n    .dataframe tbody tr th:only-of-type {\n        vertical-align: middle;\n    }\n\n    .dataframe tbody tr th {\n        vertical-align: top;\n    }\n\n    .dataframe thead th {\n        text-align: right;\n    }\n</style>\n<table border=\"1\" class=\"dataframe\">\n  <thead>\n    <tr style=\"text-align: right;\">\n      <th></th>\n      <th>BSM</th>\n      <th>MCS: N=25</th>\n      <th>MCS: N=100</th>\n      <th>MCS: N=2500</th>\n      <th>MCS: N=10000</th>\n    </tr>\n    <tr>\n      <th>Stock Price</th>\n      <th></th>\n      <th></th>\n      <th></th>\n      <th></th>\n      <th></th>\n    </tr>\n  </thead>\n  <tbody>\n    <tr>\n      <th>95.0</th>\n      <td>0.515941</td>\n      <td>0.570738</td>\n      <td>0.475615</td>\n      <td>0.515947</td>\n      <td>0.511191</td>\n    </tr>\n    <tr>\n      <th>96.0</th>\n      <td>0.496139</td>\n      <td>0.380492</td>\n      <td>0.523176</td>\n      <td>0.476376</td>\n      <td>0.495210</td>\n    </tr>\n    <tr>\n      <th>97.0</th>\n      <td>0.476486</td>\n      <td>0.608787</td>\n      <td>0.447078</td>\n      <td>0.473332</td>\n      <td>0.475615</td>\n    </tr>\n    <tr>\n      <th>98.0</th>\n      <td>0.457032</td>\n      <td>0.456590</td>\n      <td>0.437566</td>\n      <td>0.464961</td>\n      <td>0.455829</td>\n    </tr>\n    <tr>\n      <th>99.0</th>\n      <td>0.437824</td>\n      <td>0.494639</td>\n      <td>0.456590</td>\n      <td>0.431858</td>\n      <td>0.443463</td>\n    </tr>\n    <tr>\n      <th>100.0</th>\n      <td>0.418905</td>\n      <td>0.380492</td>\n      <td>0.523176</td>\n      <td>0.418541</td>\n      <td>0.418160</td>\n    </tr>\n    <tr>\n      <th>101.0</th>\n      <td>0.400313</td>\n      <td>0.304393</td>\n      <td>0.399516</td>\n      <td>0.398375</td>\n      <td>0.403321</td>\n    </tr>\n    <tr>\n      <th>102.0</th>\n      <td>0.382085</td>\n      <td>0.228295</td>\n      <td>0.361467</td>\n      <td>0.379731</td>\n      <td>0.393999</td>\n    </tr>\n    <tr>\n      <th>103.0</th>\n      <td>0.364254</td>\n      <td>0.380492</td>\n      <td>0.332930</td>\n      <td>0.364131</td>\n      <td>0.357662</td>\n    </tr>\n    <tr>\n      <th>104.0</th>\n      <td>0.346849</td>\n      <td>0.304393</td>\n      <td>0.342443</td>\n      <td>0.334833</td>\n      <td>0.338162</td>\n    </tr>\n    <tr>\n      <th>105.0</th>\n      <td>0.329895</td>\n      <td>0.266344</td>\n      <td>0.332930</td>\n      <td>0.328745</td>\n      <td>0.329411</td>\n    </tr>\n  </tbody>\n</table>\n</div>"
     },
     "metadata": {},
     "execution_count": 11
    }
   ],
   "source": [
    "df = pd.DataFrame(data=BSPut,index=S,columns=['BSM'])\n",
    "df1 = pd.DataFrame(data=MCPut,index=S,columns=['MCS: N=25','MCS: N=100','MCS: N=2500','MCS: N=10000'])\n",
    "df = df.join(df1)\n",
    "df.index.rename('Stock Price',inplace=True)\n",
    "print (\"\\033[1m\\t\\t\\033[4mBinary Put Option Valuation\\033[0m\\033[0m\")\n",
    "df.loc[95:105]"
   ]
  },
  {
   "cell_type": "code",
   "execution_count": 12,
   "metadata": {},
   "outputs": [
    {
     "output_type": "stream",
     "name": "stdout",
     "text": [
      "Calculations Done\n"
     ]
    }
   ],
   "source": [
    "# Calculating Errors for different S and N\n",
    "\n",
    "temp = np.hstack((BSCall,BSCall,BSCall,BSCall))\n",
    "temp1 = np.hstack((BSPut,BSPut,BSPut,BSPut))\n",
    "\n",
    "errorCall = temp - MCCall\n",
    "errorPut = temp1 - MCPut\n",
    "print('Calculations Done')"
   ]
  },
  {
   "cell_type": "code",
   "execution_count": 13,
   "metadata": {},
   "outputs": [],
   "source": [
    "# Plotting Errors in Binary Call Valuation for different S and N\n",
    "\n",
    "image_name = 'image3.png'       # Name of the Image File\n",
    "image_path = os.path.join(images_folder_path, image_name)\n",
    "\n",
    "plt.figure()\n",
    "plt.plot(S,errorCall)\n",
    "plt.legend(['N = 25', 'N=100','N =2500','N=10000'],frameon=True)\n",
    "plt.xlabel('Stock Price')\n",
    "plt.ylabel('Error (BS Price - MCS Price)')\n",
    "plt.xticks(fontsize=9)\n",
    "plt.yticks(fontsize=9)\n",
    "plt.title('Error Plot (Binary Call Valuation by MCS)');\n",
    "plt.savefig(image_path, dpi=300)\n",
    "plt.close();"
   ]
  },
  {
   "source": [
    "<img src='.//Images/image3.png'/>"
   ],
   "cell_type": "markdown",
   "metadata": {}
  },
  {
   "cell_type": "code",
   "execution_count": 14,
   "metadata": {},
   "outputs": [],
   "source": [
    "# Plotting Errors in Binary Put Valuation for different S and N\n",
    "\n",
    "image_name = 'image4.png'       # Name of the Image File\n",
    "image_path = os.path.join(images_folder_path, image_name)\n",
    "plt.figure()\n",
    "plt.plot(S,errorPut)\n",
    "plt.legend(['N = 25', 'N=100','N =2500','N=10000'],frameon=True)\n",
    "plt.xlabel('Stock Price')\n",
    "plt.ylabel('Error (BS Price - MCS Price)')\n",
    "plt.xticks(fontsize=9)\n",
    "plt.yticks(fontsize=9)\n",
    "plt.title('Error Plot (Binary Put Valuation by MCS)');\n",
    "plt.savefig(image_path, dpi=300)\n",
    "plt.close();"
   ]
  },
  {
   "source": [
    "<img src='.//Images/image4.png'/>"
   ],
   "cell_type": "markdown",
   "metadata": {}
  },
  {
   "cell_type": "markdown",
   "metadata": {},
   "source": [
    "**Observations**:\n",
    "\n",
    "* From the above two graphs we can infer that as the number of simulations and the number of Time steps increase, the results form the Monte Carlo Simulations get closer to the theoretical values from the BSM Model.\n",
    "* Errors are larger when Stock Price (S) is closer to Strike Price (K)."
   ]
  },
  {
   "cell_type": "code",
   "execution_count": 15,
   "metadata": {},
   "outputs": [
    {
     "output_type": "stream",
     "name": "stdout",
     "text": [
      "Calculations Done\n"
     ]
    }
   ],
   "source": [
    "# Option Prices for different Stock Prices (S) and volatility (Vol)\n",
    "\n",
    "stockPrices = S.size\n",
    "volCount = len(vol)\n",
    "\n",
    "BSCallVol = np.zeros((stockPrices,volCount))\n",
    "BSPutVol = np.zeros((stockPrices,volCount))\n",
    "MCCallVol = np.zeros((stockPrices,volCount))\n",
    "MCPutVol = np.zeros((stockPrices,volCount))\n",
    "\n",
    "for j,sigma in enumerate(vol):\n",
    "    for i,s in np.ndenumerate(S):        \n",
    "        BSCallVol[i,j] = BSValue(s,kDefault,tDefault,rDefault,sigma,'Call')\n",
    "        BSPutVol[i,j] = BSValue(s,kDefault,tDefault,rDefault,sigma,'Put')\n",
    "        MCCallVol[i,j] = MCValue(s,kDefault,tDefault,rDefault,sigma,'Call',mDefault,nDefault)\n",
    "        MCPutVol[i,j] = MCValue(s,kDefault,tDefault,rDefault,sigma,'Put',mDefault,nDefault)\n",
    "print('Calculations Done')"
   ]
  },
  {
   "cell_type": "code",
   "execution_count": 16,
   "metadata": {},
   "outputs": [],
   "source": [
    "# Plotting Results of MCS for Binary Call for different S and Vol\n",
    "\n",
    "image_name = 'image5.png'       # Name of the Image File\n",
    "image_path = os.path.join(images_folder_path, image_name)\n",
    "fig, ((ax1,ax2),(ax3,ax4)) = plt.subplots(2,2,sharex = True, sharey = True)\n",
    "axs = [ax1,ax2,ax3,ax4] \n",
    "for i,ax in enumerate(axs): \n",
    "       \n",
    "    ax.plot(S,BSCallVol[:,i], label='BSM: Vol = {}'.format(vol[i]))\n",
    "    ax.plot(S,MCCallVol[:,i], label='MCS: Vol = {}'.format(vol[i]))\n",
    "    ax.set_ylim(-0.05,1.05)\n",
    "    ax.tick_params(labelsize=9)\n",
    "    ax.legend(fontsize=8,frameon=True)\n",
    "\n",
    "fig.text(0.5, 0.04, 'Stock Price', ha='center')\n",
    "fig.text(0.04, 0.5, 'Binary Call Price', va='center', rotation='vertical')\n",
    "fig.suptitle(\"Binary Call Price with varying S and Vol\",ha='center')\n",
    "fig.tight_layout()\n",
    "fig.subplots_adjust(left = 0.14,top=0.92, bottom = 0.14);\n",
    "plt.savefig(image_path, dpi=300)\n",
    "plt.close();"
   ]
  },
  {
   "source": [
    "<img src='.//Images/image5.png'/>"
   ],
   "cell_type": "markdown",
   "metadata": {}
  },
  {
   "cell_type": "code",
   "execution_count": 17,
   "metadata": {},
   "outputs": [],
   "source": [
    "# Plotting Results of MCS for Binary Put for different S and Vol\n",
    "\n",
    "image_name = 'image6.png'       # Name of the Image File\n",
    "image_path = os.path.join(images_folder_path, image_name)\n",
    "fig, ((ax1,ax2),(ax3,ax4)) = plt.subplots(2,2,sharex = True, sharey = True)\n",
    "axs = [ax1,ax2,ax3,ax4] \n",
    "for i,ax in enumerate(axs): \n",
    "       \n",
    "    ax.plot(S,BSPutVol[:,i], label='BSM: Vol = {}'.format(vol[i]))\n",
    "    ax.plot(S,MCPutVol[:,i], label='MCS: Vol = {}'.format(vol[i]))\n",
    "    ax.set_ylim(-0.05,1.05)\n",
    "    ax.tick_params(labelsize=9)\n",
    "    ax.legend(fontsize=8,frameon=True)\n",
    "\n",
    "fig.text(0.5, 0.04, 'Stock Price', ha='center')\n",
    "fig.text(0.04, 0.5, 'Binary Put Price', va='center', rotation='vertical')\n",
    "fig.suptitle(\"Binary Put Price with varying S and Vol\",ha='center')\n",
    "fig.tight_layout()\n",
    "fig.subplots_adjust(left = 0.14,top=0.92, bottom = 0.14);\n",
    "plt.savefig(image_path, dpi=300)\n",
    "plt.close();"
   ]
  },
  {
   "source": [
    "<img src='.//Images/image6.png'/>"
   ],
   "cell_type": "markdown",
   "metadata": {}
  },
  {
   "cell_type": "markdown",
   "metadata": {},
   "source": [
    "**Observations**:\n",
    "\n",
    "From the above two set of graphs we can infer the following:\n",
    "\n",
    "* Increase in volatility has contrasting effect on Binary Option Prices. \n",
    "* For OTM (Out of the money) Options, the price increases, as higher volatility implies a greater chance of the option ending up in the money at expiry.\n",
    "* For ITM (In the money) Options, the price decreases, as higher volatility implies a greater chance of the option ending up out of the money at expiry. \n",
    "* This behaviour is different from that of a European Call Option whose value increases with higher volatility irrespctive of the option being ITM or OTM. This is because, for a Binary Option the upside is fixed and thus an ITM option would not benefit from higher volatility."
   ]
  },
  {
   "cell_type": "code",
   "execution_count": 18,
   "metadata": {},
   "outputs": [
    {
     "output_type": "stream",
     "name": "stdout",
     "text": [
      "Calculations Done\n"
     ]
    }
   ],
   "source": [
    "# Option Prices for different Stock Prices (S) and Risk Free Rate (R)\n",
    "stockPrices = S.size\n",
    "rCount = len(r)\n",
    "\n",
    "BSCallR= np.zeros((stockPrices,rCount))\n",
    "BSPutR = np.zeros((stockPrices,rCount))\n",
    "MCCallR = np.zeros((stockPrices,rCount))\n",
    "MCPutR = np.zeros((stockPrices,rCount))\n",
    "\n",
    "for j,riskFree in enumerate(r):\n",
    "    for i,s in np.ndenumerate(S):        \n",
    "        BSCallR[i,j] = BSValue(s,kDefault,tDefault,riskFree,volDefault,'Call')\n",
    "        BSPutR[i,j] = BSValue(s,kDefault,tDefault,riskFree,volDefault,'Put')\n",
    "        MCCallR[i,j] = MCValue(s,kDefault,tDefault,riskFree,volDefault,'Call',mDefault,nDefault)\n",
    "        MCPutR[i,j] = MCValue(s,kDefault,tDefault,riskFree,volDefault,'Put',mDefault,nDefault)\n",
    "print('Calculations Done')"
   ]
  },
  {
   "cell_type": "code",
   "execution_count": 19,
   "metadata": {},
   "outputs": [],
   "source": [
    "# Plotting Results of MCS for Binary Call for different S and R\n",
    "\n",
    "image_name = 'image7.png'       # Name of the Image File\n",
    "image_path = os.path.join(images_folder_path, image_name)\n",
    "fig, ((ax1,ax2),(ax3,ax4)) = plt.subplots(2,2,sharex = True, sharey = True)\n",
    "axs = [ax1,ax2,ax3,ax4] \n",
    "for i,ax in enumerate(axs): \n",
    "       \n",
    "    ax.plot(S,BSCallR[:,i], label='BSM: r = {}'.format(r[i]))\n",
    "    ax.plot(S,MCCallR[:,i], label='MCS: r = {}'.format(r[i]))\n",
    "    ax.set_ylim(-0.05,1.05)\n",
    "    ax.tick_params(labelsize=9)\n",
    "    ax.legend(fontsize=8,frameon=True)\n",
    "\n",
    "fig.text(0.5, 0.04, 'Stock Price', ha='center')\n",
    "fig.text(0.04, 0.5, 'Binary Call Price', va='center', rotation='vertical')\n",
    "fig.suptitle(\"Binary Call Price with varying S and Risk-Free Rate\",ha='center')\n",
    "fig.subplots_adjust(left = 0.14,top=0.92, bottom = 0.14);\n",
    "plt.savefig(image_path, dpi=300)\n",
    "plt.close();"
   ]
  },
  {
   "source": [
    "<img src='.//Images/image7.png'/>"
   ],
   "cell_type": "markdown",
   "metadata": {}
  },
  {
   "cell_type": "markdown",
   "metadata": {},
   "source": [
    "**Observations**:\n",
    "\n",
    "* Binary Call Option Prices increase as Risk-Free rates increases"
   ]
  },
  {
   "cell_type": "code",
   "execution_count": 20,
   "metadata": {},
   "outputs": [],
   "source": [
    "# Plotting Results of MCS for Binary Put for different S and R\n",
    "\n",
    "image_name = 'image8.png'       # Name of the Image File\n",
    "image_path = os.path.join(images_folder_path, image_name)\n",
    "fig, ((ax1,ax2),(ax3,ax4)) = plt.subplots(2,2,sharex = True, sharey = True)\n",
    "axs = [ax1,ax2,ax3,ax4] \n",
    "for i,ax in enumerate(axs): \n",
    "       \n",
    "    ax.plot(S,BSPutR[:,i], label='BSM: r = {}'.format(r[i]))\n",
    "    ax.plot(S,MCPutR[:,i], label='MCS: r = {}'.format(r[i]))\n",
    "    ax.set_ylim(-0.05,1.05)\n",
    "    ax.tick_params(labelsize=9)\n",
    "    ax.legend(fontsize=8,frameon=True)\n",
    "\n",
    "fig.text(0.5, 0.04, 'Stock Price', ha='center')\n",
    "fig.text(0.04, 0.5, 'Binary Put Price', va='center', rotation='vertical')\n",
    "fig.suptitle(\"Binary Put Price with varying S and Risk-Free Rate\",ha='center')\n",
    "fig.subplots_adjust(left = 0.14,top=0.92, bottom = 0.14);\n",
    "plt.savefig(image_path, dpi=300)\n",
    "plt.close();"
   ]
  },
  {
   "source": [
    "<img src='.//Images/image8.png'/>"
   ],
   "cell_type": "markdown",
   "metadata": {}
  },
  {
   "cell_type": "markdown",
   "metadata": {},
   "source": [
    "**Observations**:\n",
    "\n",
    "* Binary Put Option Prices decrease as Risk-Free rates increases"
   ]
  },
  {
   "cell_type": "code",
   "execution_count": 21,
   "metadata": {},
   "outputs": [
    {
     "output_type": "stream",
     "name": "stdout",
     "text": [
      "Calculations Done\n"
     ]
    }
   ],
   "source": [
    "#  Option Prices for different Stock Prices (S) and Time to maturity (T)\n",
    "\n",
    "stockPrices = S.size\n",
    "tCount = len(T)\n",
    "\n",
    "BSCallT = np.zeros((stockPrices,tCount))\n",
    "BSPutT = np.zeros((stockPrices,tCount))\n",
    "MCCallT = np.zeros((stockPrices,tCount))\n",
    "MCPutT = np.zeros((stockPrices,tCount))\n",
    "\n",
    "for j,t in enumerate(T):\n",
    "    for i,s in np.ndenumerate(S):        \n",
    "        BSCallT[i,j] = BSValue(s,kDefault,t,rDefault,volDefault,'Call')\n",
    "        BSPutT[i,j] = BSValue(s,kDefault,t,rDefault,volDefault,'Put')\n",
    "        MCCallT[i,j] = MCValue(s,kDefault,t,rDefault,volDefault,'Call',mDefault,nDefault)\n",
    "        MCPutT[i,j] = MCValue(s,kDefault,t,rDefault,volDefault,'Put',mDefault,nDefault)\n",
    "print('Calculations Done')"
   ]
  },
  {
   "cell_type": "code",
   "execution_count": 22,
   "metadata": {},
   "outputs": [],
   "source": [
    "# Plotting Results of MCS for Binary Call for different S and T\n",
    "\n",
    "image_name = 'image9.png'       # Name of the Image File\n",
    "image_path = os.path.join(images_folder_path, image_name)\n",
    "fig, ((ax1,ax2),(ax3,ax4)) = plt.subplots(2,2,sharex = True, sharey = True)\n",
    "axs = [ax1,ax2,ax3,ax4] \n",
    "for i,ax in enumerate(axs): \n",
    "       \n",
    "    ax.plot(S,BSCallT[:,i], label='BSM: T = {}'.format(T[i]))\n",
    "    ax.plot(S,MCCallT[:,i], label='MCS: T = {}'.format(T[i]))\n",
    "    ax.set_ylim(-0.05,1.05)\n",
    "    ax.tick_params(labelsize=9)\n",
    "    ax.legend(fontsize=8,frameon=True)\n",
    "\n",
    "fig.text(0.5, 0.04, 'Stock Price', ha='center')\n",
    "fig.text(0.04, 0.5, 'Binary Call Price', va='center', rotation='vertical')\n",
    "fig.suptitle(\"Binary Call Price with varying S and Time to Maturity\",ha='center')\n",
    "fig.subplots_adjust(left = 0.14,top=0.92, bottom = 0.14);\n",
    "plt.savefig(image_path, dpi=300)\n",
    "plt.close();"
   ]
  },
  {
   "source": [
    "<img src='.//Images/image9.png'/>"
   ],
   "cell_type": "markdown",
   "metadata": {}
  },
  {
   "cell_type": "markdown",
   "metadata": {},
   "source": [
    "**Observations**:\n",
    "    \n",
    "* Price of OTM Binary Calls increase as Time to Maturity increases because time period for ending up in the money increases.\n",
    "* Price of ITM Binary Calls decrease as Time to Maturity increases because time period for ending up out of the money increases."
   ]
  },
  {
   "cell_type": "code",
   "execution_count": 23,
   "metadata": {},
   "outputs": [],
   "source": [
    "# Plotting Results of MCS for Binary Put for different S and T\n",
    "\n",
    "image_name = 'image10.png'       # Name of the Image File\n",
    "image_path = os.path.join(images_folder_path, image_name)\n",
    "fig, ((ax1,ax2),(ax3,ax4)) = plt.subplots(2,2,sharex = True, sharey = True)\n",
    "axs = [ax1,ax2,ax3,ax4] \n",
    "for i,ax in enumerate(axs): \n",
    "       \n",
    "    ax.plot(S,BSPutT[:,i], label='BSM: T = {}'.format(T[i]))\n",
    "    ax.plot(S,MCPutT[:,i], label='MCS: T = {}'.format(T[i]))\n",
    "    ax.set_ylim(-0.05,1.05)\n",
    "    ax.tick_params(labelsize=9)\n",
    "    ax.legend(fontsize=8,frameon=True)\n",
    "\n",
    "fig.text(0.5, 0.04, 'Stock Price', ha='center')\n",
    "fig.text(0.04, 0.5, 'Binary Put Price', va='center', rotation='vertical')\n",
    "fig.suptitle(\"Binary Put Price with varying S and Time to Maturity\",ha='center')\n",
    "fig.subplots_adjust(left = 0.14,top=0.92, bottom = 0.14);\n",
    "plt.savefig(image_path, dpi=300)\n",
    "plt.close();"
   ]
  },
  {
   "source": [
    "<img src='.//Images/image10.png'/>"
   ],
   "cell_type": "markdown",
   "metadata": {}
  },
  {
   "cell_type": "markdown",
   "metadata": {},
   "source": [
    "**Observations**:\n",
    "    \n",
    "* Price of OTM Binary Puts increase as Time to Maturity increases because time period for ending up in the money increases.\n",
    "* Price of ITM Binary Puts decrease as Time to Maturity increases because time period for ending up out of the money increases.\n",
    "* However, the effect of Time to Maturity is complicated on Binary Puts. This is because on one hand the longer Time to Maturity increases volatility, which increases the Put's value, on the other hand it decreases the present value of the payoff, which decreases the Put's value. "
   ]
  },
  {
   "cell_type": "code",
   "execution_count": 24,
   "metadata": {},
   "outputs": [
    {
     "output_type": "stream",
     "name": "stdout",
     "text": [
      "Calculations Done\n"
     ]
    }
   ],
   "source": [
    "# Option Prices for ATM,ITM and OTM Call and Puts for Varying Vol\n",
    "\n",
    "sRange = [90,100,110]\n",
    "stockPrices = len(sRange)\n",
    "nVol = 100\n",
    "volRange = np.linspace(0.01,0.6,nVol)\n",
    "BSCallVolRa = np.zeros((nVol,stockPrices))\n",
    "BSPutVolRa = np.zeros((nVol,stockPrices))\n",
    "MCCallVolRa = np.zeros((nVol, stockPrices))\n",
    "MCPutVolRa = np.zeros((nVol, stockPrices))\n",
    "\n",
    "for j,s in enumerate(sRange): \n",
    "    for i,sigma in np.ndenumerate(volRange):\n",
    "            BSCallVolRa[i,j] = BSValue(s,kDefault,tDefault,rDefault,sigma,'Call')\n",
    "            BSPutVolRa[i,j] = BSValue(s,kDefault,tDefault,rDefault,sigma,'Put')\n",
    "            MCCallVolRa[i,j] = MCValue(s,kDefault,tDefault,rDefault,sigma,'Call',mDefault,nDefault)\n",
    "            MCPutVolRa[i,j] = MCValue(s,kDefault,tDefault,rDefault,sigma,'Put',mDefault,nDefault)\n",
    "print('Calculations Done')"
   ]
  },
  {
   "cell_type": "code",
   "execution_count": 25,
   "metadata": {},
   "outputs": [],
   "source": [
    "# Plotting Option Prices for ATM,ITM and OTM Call and Puts for Varying Vol\n",
    "\n",
    "image_name = 'image11.png'       # Name of the Image File\n",
    "image_path = os.path.join(images_folder_path, image_name)\n",
    "fig, ((ax1,ax2),(ax3,ax4),(ax5,ax6)) = plt.subplots(3,2,sharex = True,sharey=True,figsize=(8,8))\n",
    "axCall = [ax1,ax3,ax5]\n",
    "axPut = [ax2,ax4,ax6]\n",
    "\n",
    "for i,ax in enumerate(axCall): \n",
    "       \n",
    "    ax.plot(volRange,BSCallVolRa[:,i], label='BSM: S = {}'.format(sRange[i]))\n",
    "    ax.plot(volRange,MCCallVolRa[:,i], label='MCS: S = {}'.format(sRange[i]))\n",
    "    ax.set_ylim(-0.05,1.05)\n",
    "    ax.tick_params(labelsize=9)\n",
    "    ax.legend(fontsize=8,frameon=True)\n",
    "\n",
    "for i,ax in enumerate(axPut): \n",
    "       \n",
    "    ax.plot(volRange,BSPutVolRa[:,i], label='BSM: S = {}'.format(sRange[i]))\n",
    "    ax.plot(volRange,MCPutVolRa[:,i], label='MCS: S = {}'.format(sRange[i]))\n",
    "    ax.set_ylim(-0.05,1.05)\n",
    "    ax.tick_params(labelsize=9)\n",
    "    ax.legend(fontsize=8,frameon=True)\n",
    "\n",
    "ax1.set_title(\"Binary Call\")\n",
    "ax2.set_title(\"Binary Put\")\n",
    "fig.text(0.5, 0.04, 'Volatility', ha='center')\n",
    "fig.text(0.04, 0.5, 'Binary Option Price', va='center', rotation='vertical')\n",
    "fig.suptitle(\"Binary Option Price with varying Volatility, K = 100\",ha='center')\n",
    "fig.subplots_adjust(left = 0.14,top=0.88, bottom = 0.14);\n",
    "plt.savefig(image_path, dpi=300)\n",
    "plt.close();"
   ]
  },
  {
   "source": [
    "<img src='.//Images/image11.png'/>"
   ],
   "cell_type": "markdown",
   "metadata": {}
  },
  {
   "cell_type": "markdown",
   "metadata": {},
   "source": [
    "**Observations**:\n",
    "\n",
    "* Price of OTM Options increases as volatility increases.\n",
    "* Price of ITM Options decrease as volatility increases."
   ]
  },
  {
   "cell_type": "code",
   "execution_count": 26,
   "metadata": {},
   "outputs": [
    {
     "output_type": "stream",
     "name": "stdout",
     "text": [
      "Calculations Done\n"
     ]
    }
   ],
   "source": [
    "# Option Prices for ATM,ITM and OTM Call and Puts for Varying Risk Free Rate\n",
    "\n",
    "sRange = [90,100,110]\n",
    "stockPrices = len(sRange)\n",
    "nR = 100\n",
    "rRange = np.linspace(0.01,0.2,nR)\n",
    "BSCallrRa = np.zeros((nR,stockPrices))\n",
    "BSPutrRa = np.zeros((nR,stockPrices))\n",
    "MCCallrRa = np.zeros((nR,stockPrices))\n",
    "MCPutrRa = np.zeros((nR,stockPrices))\n",
    "\n",
    "for j,s in enumerate(sRange): \n",
    "    for i,r in np.ndenumerate(rRange):\n",
    "            BSCallrRa[i,j] = BSValue(s,kDefault,tDefault,r,volDefault,'Call')\n",
    "            BSPutrRa[i,j] = BSValue(s,kDefault,tDefault,r,volDefault,'Put')\n",
    "            MCCallrRa[i,j] = MCValue(s,kDefault,tDefault,r,volDefault,'Call',mDefault,nDefault)\n",
    "            MCPutrRa[i,j] = MCValue(s,kDefault,tDefault,r,volDefault,'Put',mDefault,nDefault)\n",
    "print('Calculations Done')"
   ]
  },
  {
   "cell_type": "code",
   "execution_count": 27,
   "metadata": {},
   "outputs": [],
   "source": [
    "# Plotting Option Prices for ATM,ITM and OTM Call and Puts for Varying Risk-Free Rate\n",
    "\n",
    "image_name = 'image12.png'       # Name of the Image File\n",
    "image_path = os.path.join(images_folder_path, image_name)\n",
    "\n",
    "fig, ((ax1,ax2),(ax3,ax4),(ax5,ax6)) = plt.subplots(3,2,sharex = True,sharey=True, figsize=(8,8))\n",
    "axCall = [ax1,ax3,ax5]\n",
    "axPut = [ax2,ax4,ax6]\n",
    "\n",
    "for i,ax in enumerate(axCall): \n",
    "       \n",
    "    ax.plot(rRange,BSCallrRa[:,i], label='BSM: S = {}'.format(sRange[i]))\n",
    "    ax.plot(rRange,MCCallrRa[:,i], label='MCS: S = {}'.format(sRange[i]))\n",
    "    ax.set_ylim(-0.05,1.05)\n",
    "    ax.set_xlim(-0.01,0.21)\n",
    "    ax.tick_params(labelsize=9)\n",
    "    ax.legend(fontsize=8,frameon=True)\n",
    "\n",
    "for i,ax in enumerate(axPut): \n",
    "       \n",
    "    ax.plot(rRange,BSPutrRa[:,i], label='BSM: S = {}'.format(sRange[i]))\n",
    "    ax.plot(rRange,MCPutrRa[:,i], label='MCS: S = {}'.format(sRange[i]))\n",
    "    ax.set_ylim(-0.05,1.05)\n",
    "    ax.set_xlim(-0.01,0.21)\n",
    "    ax.tick_params(labelsize=9)\n",
    "    ax.legend(fontsize=8,frameon=True)\n",
    "\n",
    "ax1.set_title(\"Binary Call\")\n",
    "ax2.set_title(\"Binary Put\")\n",
    "fig.text(0.5, 0.04, 'Risk-Free Rate', ha='center')\n",
    "fig.text(0.04, 0.5, 'Binary Option Price', va='center', rotation='vertical')\n",
    "fig.suptitle(\"Binary Option Price with varying Risk Free Rate, K = 100\",ha='center')\n",
    "fig.subplots_adjust(left = 0.14,top=0.88, bottom = 0.14);\n",
    "plt.savefig(image_path, dpi=300)\n",
    "plt.close();"
   ]
  },
  {
   "source": [
    "<img src='.//Images/image12.png'/>"
   ],
   "cell_type": "markdown",
   "metadata": {}
  },
  {
   "cell_type": "markdown",
   "metadata": {},
   "source": [
    "**Observations**:\n",
    "\n",
    "* Call Prices increase as Risk-Free Rate increases.\n",
    "* Put Prices decrease as Risk-Free Rate increases."
   ]
  },
  {
   "cell_type": "code",
   "execution_count": 28,
   "metadata": {},
   "outputs": [
    {
     "output_type": "stream",
     "name": "stdout",
     "text": [
      "Calculations Done\n"
     ]
    }
   ],
   "source": [
    "# Option Prices for ATM,ITM and OTM Call and Puts for Varying Time to Maturity\n",
    "\n",
    "sRange = [90,100,110]\n",
    "stockPrices = len(sRange)\n",
    "tR = 100\n",
    "tRange = np.linspace(0.1,2,tR)\n",
    "BSCalltRa = np.zeros((tR,stockPrices))\n",
    "BSPuttRa = np.zeros((tR,stockPrices))\n",
    "MCCalltRa = np.zeros((tR,stockPrices))\n",
    "MCPuttRa = np.zeros((tR,stockPrices))\n",
    "\n",
    "for j,s in enumerate(sRange): \n",
    "    for i,t in np.ndenumerate(tRange):\n",
    "            BSCalltRa[i,j] = BSValue(s,kDefault,t,rDefault,volDefault,'Call')\n",
    "            BSPuttRa[i,j] = BSValue(s,kDefault,t,rDefault,volDefault,'Put')\n",
    "            MCCalltRa[i,j] = MCValue(s,kDefault,t,rDefault,volDefault,'Call',mDefault,nDefault)\n",
    "            MCPuttRa[i,j] = MCValue(s,kDefault,t,rDefault,volDefault,'Put',mDefault,nDefault)\n",
    "print('Calculations Done')"
   ]
  },
  {
   "cell_type": "code",
   "execution_count": 29,
   "metadata": {},
   "outputs": [],
   "source": [
    "# Plotting Option Prices for ATM,ITM and OTM Call and Puts for Varying Time to Maturtiy\n",
    "\n",
    "image_name = 'image13.png'       # Name of the Image File\n",
    "image_path = os.path.join(images_folder_path, image_name)\n",
    "fig, ((ax1,ax2),(ax3,ax4),(ax5,ax6)) = plt.subplots(3,2,sharex = True,sharey=True, figsize=(8,8))\n",
    "axCall = [ax1,ax3,ax5]\n",
    "axPut = [ax2,ax4,ax6]\n",
    "\n",
    "for i,ax in enumerate(axCall): \n",
    "       \n",
    "    ax.plot(tRange,BSCalltRa[:,i], label='BSM: S = {}'.format(sRange[i]))\n",
    "    ax.plot(tRange,MCCalltRa[:,i], label='MCS: S = {}'.format(sRange[i]))\n",
    "    ax.set_ylim(-0.05,1.05)\n",
    "    ax.set_xlim(0.1,2.05)\n",
    "    ax.tick_params(labelsize=9)\n",
    "    ax.legend(fontsize=8,frameon=True)\n",
    "\n",
    "for i,ax in enumerate(axPut): \n",
    "       \n",
    "    ax.plot(tRange,BSPuttRa[:,i], label='BSM: S = {}'.format(sRange[i]))\n",
    "    ax.plot(tRange,MCPuttRa[:,i], label='MCS: S = {}'.format(sRange[i]))\n",
    "    ax.set_ylim(-0.05,1.05)\n",
    "    ax.set_xlim(-0.1,2.05)\n",
    "    ax.tick_params(labelsize=9)\n",
    "    ax.legend(fontsize=8,frameon=True)\n",
    "\n",
    "ax1.set_title(\"Binary Call\")\n",
    "ax2.set_title(\"Binary Put\")\n",
    "fig.text(0.5, 0.04, 'Time to Maturity', ha='center')\n",
    "fig.text(0.04, 0.5, 'Binary Option Price', va='center', rotation='vertical')\n",
    "fig.suptitle(\"Binary Option Price with varying Time to Maturity, K = 100\",ha='center')\n",
    "fig.subplots_adjust(left = 0.14,top=0.88, bottom = 0.14);\n",
    "plt.savefig(image_path, dpi=300)\n",
    "plt.close();"
   ]
  },
  {
   "source": [
    "<img src='.//Images/image13.png'/>"
   ],
   "cell_type": "markdown",
   "metadata": {}
  },
  {
   "cell_type": "markdown",
   "metadata": {},
   "source": [
    "**Observations**:\n",
    "\n",
    "* The increase in OTM Call Option's price is faster than the increase in OTM Put Option's price as Time to Maturity increases.\n",
    "* The decrease in ITM Call Options's price is slower than the decrease in ITM Put Options' price as Time to Maturity increases.\n",
    "* The above is due to two different factors affecting the Put Value in opposite directions. On one hand the longer Time to Maturity increases volatility, which increases the Put's value, on the other hand it decreases the present value of the payoff, which decreases the Put's value."
   ]
  },
  {
   "cell_type": "markdown",
   "metadata": {},
   "source": [
    "## Conclusion:\n",
    "\n",
    "Binary Options have been priced using both Monte Carlo Simulations and Black Scholes Model. Then, Binary Option Prices have been analysed with respect to varying Stock Prices, Volatility, Risk-Free Rate and Time to Maturity.\n",
    "\n",
    "* Higher number of Time Steps and Simulations increase the accuracy of Monte Carlo Simulations.\n",
    "* Magnitude of Delta is highest when Stock Price is close to the Strike Price.\n",
    "* Volatility increases the price of OTM Options but it decreases the price of ITM Options.\n",
    "* Higher the Risk-Free Rate, higher the Call Option Price and lower the Put Option Price.\n",
    "* As Time to Maturity increases, OTM Call Option Price increases and ITM Call Option Price decreases.\n",
    "* Effect of Time to Maturity on Put Option Price is more complex and depends on the interplay of Risk-Free rate, volatility and Time to Maturity.\n"
   ]
  },
  {
   "cell_type": "markdown",
   "metadata": {},
   "source": [
    "## References:\n",
    "\n",
    "Euler-Maruyama Method:\n",
    "\n",
    "* https://www.stat.berkeley.edu/~arturof/Teaching/STAT150/Notes/II_Brownian_Motion.pdf\n",
    "* http://www.math.kit.edu/ianm3/lehre/nummathfin2012w/media/euler_maruyama.pdf\n",
    "* https://ipython-books.github.io/134-simulating-a-stochastic-differential-equation/\n",
    "* http://www.mecs-press.org/ijisa/ijisa-v8-n6/IJISA-V8-N6-6.pdf\n",
    "\n",
    "\n",
    "Option Pricing:\n",
    "\n",
    "* Wilmott P.(2018). Paul Wilmott Introduces Quantitative Finance, 2nd Edition\n",
    "* http://konvexity.com/factors-affecting-value-of-an-option\n",
    "* https://quant.stackexchange.com/questions/16064/effect-of-time-to-maturity-on-european-put-option\n",
    "* https://binarytradingclub.com/binary-option-pricing/\n",
    "* https://www.nadex.com/learning-center/glossary/what-does-volatility-mean\n",
    "* https://breakingdownfinance.com/finance-topics/derivative-valuation/option-valuation/binary-option-pricing/\n",
    "* https://financetrain.com/impact-of-exercise-price-and-time-to-expiry-on-option-prices/\n",
    "\n",
    "\n",
    "Python Coding and Latex Typing in Jupyter Notebook:\n",
    "\n",
    "* Hilpisch Y.(2018). Python for Finance, 2nd Edition\n",
    "* CQF Pre Course Resources, Introduction to Python Primer\n",
    "* https://daringfireball.net/projects/markdown/\n",
    "* https://www.math.ubc.ca/~pwalls/math-python/jupyter/latex/#common-symbols"
   ]
  },
  {
   "source": [
    "<hr style=\"border:.05px solid black\"><br>"
   ],
   "cell_type": "markdown",
   "metadata": {}
  }
 ],
 "metadata": {
  "kernelspec": {
   "name": "python3",
   "display_name": "Python 3.7.6 64-bit ('AJ_MSI': virtualenv)"
  },
  "language_info": {
   "codemirror_mode": {
    "name": "ipython",
    "version": 3
   },
   "file_extension": ".py",
   "mimetype": "text/x-python",
   "name": "python",
   "nbconvert_exporter": "python",
   "pygments_lexer": "ipython3",
   "version": "3.7.6"
  },
  "interpreter": {
   "hash": "2c2bd7fa4168e5edcf088f0cefe8fb069bebb5e72d0c1b92e31d56fafa246dc2"
  }
 },
 "nbformat": 4,
 "nbformat_minor": 4
}